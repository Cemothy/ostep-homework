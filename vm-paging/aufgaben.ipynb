{
 "cells": [
  {
   "cell_type": "markdown",
   "metadata": {},
   "source": [
    "<h2>Questions<h2>"
   ]
  },
  {
   "cell_type": "markdown",
   "metadata": {},
   "source": [
    "**Parameters**\n",
    "\n",
    "- -A, --addresses: A set of comma-separated pages to access; -1 means randomly generate.\n",
    "- -s, --seed: The random seed for the simulation.\n",
    "- -a, --asize: Address space size (e.g., 16, 64k, 32m, 1g).\n",
    "- -p, --physmem: Physical memory size (e.g., 16, 64k, 32m, 1g).\n",
    "- -P, --pagesize: Page size (e.g., 4k, 8k, whatever).\n",
    "- -n, --numaddrs: Number of virtual addresses to generate.\n",
    "- -u, --used: Percent of virtual address space that is used.\n",
    "- -v: Verbose mode.\n",
    "- -c: Compute answers for me"
   ]
  },
  {
   "cell_type": "markdown",
   "metadata": {},
   "source": [
    "1. Before doing any translations, let’s use the simulator to study how\n",
    "linear page tables change size given different parameters. Compute\n",
    "the size of linear page tables as different parameters change. Some\n",
    "suggested inputs are below; by using the -v flag, you can see\n",
    "how many page-table entries are filled. First, to understand how\n",
    "linear page table size changes as the address space grows, run with\n",
    "these flags:\n",
    "- -P 1k -a 1m -p 512m -v -n 0\n",
    "    - 1m = 2^20, davon sind 10bits für den Offset und somit bleiben 2^10 für die VPN\n",
    "    - 1024 Entries\n",
    "    <br>\n",
    "- -P 1k -a 2m -p 512m -v -n 0\n",
    "    - 1m = 2^21, davon sind 10bits für den Offset und somit bleiben 2^11 für die VPN\n",
    "    - 2048 Entries\n",
    "    <br>\n",
    "- -P 1k -a 4m -p 512m -v -n 0\n",
    "    - 1m = 2^22, davon sind 10bits für den Offset und somit bleiben 2^12 für die VPN\n",
    "    - 4096 Entries \n",
    "    <br>\n",
    " \n",
    "Then, to understand how linear page table size changes as page size\n",
    "grows:<br><br>\n",
    "- -P 1k -a 1m -p 512m -v -n 0\n",
    "    - 1024 Entries\n",
    "- -P 2k -a 1m -p 512m -v -n 0\n",
    "    - 512 Entries\n",
    "- -P 4k -a 1m -p 512m -v -n 0\n",
    "    - 256 Entries<br><br>\n",
    "\n",
    "    \n",
    "Before running any of these, try to think about the expected trends.\n",
    "How should page-table size change as the address space grows? As\n",
    "the page size grows? Why not use big pages in general\n",
    "\n",
    "    The smaller the Page sizes, the more entries are in the PageTable: Address Space/Page Size "
   ]
  },
  {
   "cell_type": "markdown",
   "metadata": {},
   "source": [
    "2. Now let’s do some translations. Start with some small examples,\n",
    "and change the number of pages that are allocated to the address\n",
    "space with the -u flag. For example:\n",
    "- -P 1k -a 16k -p 32k -v -u 0\n",
    "- -P 1k -a 16k -p 32k -v -u 25\n",
    "- -P 1k -a 16k -p 32k -v -u 50\n",
    "- -P 1k -a 16k -p 32k -v -u 75\n",
    "- -P 1k -a 16k -p 32k -v -u 100 <br><br>\n",
    "\n",
    "\n",
    "What happens as you increase the percentage of pages that are allocated in each address space?\n",
    "\n",
    "    If 0% are allocated then none of the VPN are valid! If 100% are allocated then all of the VPN are valid!\n"
   ]
  },
  {
   "cell_type": "markdown",
   "metadata": {},
   "source": [
    "3. Now let’s try some different random seeds, and some different (and\n",
    "sometimes quite crazy) address-space parameters, for variety:\n",
    "- -P 8 -a 32 -p 1024 -v -s 1\n",
    "- -P 8k -a 32k -p 1m -v -s 2\n",
    "- -P 1m -a 256m -p 512m -v -s 3<br><br>\n",
    "\n",
    "\n",
    "Which of these parameter combinations are unrealistic? Why?\n",
    "\n",
    "    The most realistic one would be 3. because the other two only have 4 PageTableEntries! \n",
    "    Of course all 3 have unrealisticly small address Spaces and Physical Memory\n",
    "\n"
   ]
  },
  {
   "cell_type": "markdown",
   "metadata": {},
   "source": [
    "4. Use the program to try out some other problems. Can you find the\n",
    "limits of where the program doesn’t work anymore? For example,\n",
    "what happens if the address-space size is bigger than physical memory?\n",
    "\n",
    "\n",
    "- Physical Memory must be greater then address space!\n",
    "- Address space must be a multiple of the pagesize"
   ]
  }
 ],
 "metadata": {
  "language_info": {
   "name": "python"
  }
 },
 "nbformat": 4,
 "nbformat_minor": 2
}
