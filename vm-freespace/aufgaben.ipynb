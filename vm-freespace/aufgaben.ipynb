{
 "cells": [
  {
   "cell_type": "markdown",
   "metadata": {},
   "source": [
    "<H3> Questions <H3>"
   ]
  },
  {
   "cell_type": "markdown",
   "metadata": {},
   "source": [
    "\n",
    "**1. First run with the flags -n 10 -H 0 -p BEST -s 0 to generate a few random allocations and frees. Can you predict what alloc()/free() will return? Can you guess the state of the free list after\n",
    "each request? What do you notice about the free list over time?**\n",
    "\n",
    "- Because of the use of BestFit, it will always choose the smallest fitting chunk.\n",
    "- The FreeList will be fragmented overtime since there is no coalescing happening.\n",
    "\n",
    "\n"
   ]
  },
  {
   "cell_type": "markdown",
   "metadata": {},
   "source": [
    "**2. How are the results different when using a WORST fit policy to\n",
    "search the free list (-p WORST)? What changes?**\n",
    "\n",
    "- Erst bei alloc von prt[4] & ptr[5] sehen wir einen Unterschied, da bei BestFit kleinere passende Chunks zur Verfügung waren durch die Frees von vorhin\n",
    "- Somit erhalten wir bei BestFit zwar weniger Chunks dafür aber unbrauchbare in sehr kleinen größen"
   ]
  },
  {
   "cell_type": "markdown",
   "metadata": {},
   "source": [
    "**3. What about when using FIRST fit (-p FIRST)? What speeds up\n",
    "when you use first fit?**\n",
    "\n",
    "- First macht in diesem Fall das selbe wie BestFit\n",
    "- Muss aber durch deutlich weniger Elemtene der FreeList durch"
   ]
  },
  {
   "cell_type": "markdown",
   "metadata": {},
   "source": [
    "**4. For the above questions, how the list is kept ordered can affect the\n",
    "time it takes to find a free location for some of the policies. Use\n",
    "the different free list orderings (-l ADDRSORT, -l SIZESORT+,\n",
    "-l SIZESORT-) to see how the policies and the list orderings interact.**\n",
    "\n",
    "- FirstFit\n",
    "    - Bei Sizesort- : wie **WorstFit**, da der erste Chunk der größte ist. Somit muss immer nur ein Element durchsucht werden\n",
    "    - Bei Sizesort+ : wie **BestFit**, da er somit den kleinsten Passenden Chunk nimmt! Muss deutlich mehr Elemente durchsuchen\n",
    "    - Bei Addrsort  : ist die Anzahl durchsuchte Elemente random.\n",
    "\n",
    "- BestFit\n",
    "    - Die Anzahl Element ist bei allen gleich, da auch wenn ein passender Chunk gefunden wurde alle Elemente nach einem besseren Überprüft werden müssen \n",
    "\n",
    "- WorstFit\n",
    "    - Wie bei BestFit\n"
   ]
  },
  {
   "cell_type": "markdown",
   "metadata": {},
   "source": [
    "**5. Coalescing of a free list can be quite important. Increase the number\n",
    "of random allocations (say to -n 1000). What happens to larger\n",
    "allocation requests over time? Run with and without coalescing\n",
    "(i.e., without and with the -C flag). What differences in outcome do\n",
    "you see? How big is the free list over time in each case? Does the\n",
    "ordering of the list matter in this case?**\n",
    "\n",
    "- Without coalescing, the Freelist get very big and fragmented. You are left with many unusable tiny chunks! (31 Elements)\n",
    "- With coalescing the Freelist stays small wtih big continous spaces! (2 Elements)\n",
    "- When using SIZESORT coalescing doesnt work well, since the cunks next to each other in the list are not really next to ich other in memory"
   ]
  },
  {
   "cell_type": "markdown",
   "metadata": {},
   "source": [
    "**6. What happens when you change the percent allocated fraction -P\n",
    "to higher than 50? What happens to allocations as it nears 100?\n",
    "What about as the percent nears 0?**\n",
    "\n",
    "- Since you are only allocating and not freeing any Space, there wont be enough free space for all allocations and the allocations fail"
   ]
  },
  {
   "cell_type": "markdown",
   "metadata": {},
   "source": [
    "**7. What kind of specific requests can you make to generate a highlyfragmented free space? Use the -A flag to create fragmented free\n",
    "lists, and see how different policies and options change the organization of the free list**\n",
    "\n",
    "**Using -A +1,-0,+2,-1,+3,-2,+4,-3,+5,-4**\n",
    "\n",
    "- BestFit : \n",
    "    - Free List [ Size 6 ]: [ addr:1000 sz:1 ][ addr:1001 sz:2 ][ addr:1003 sz:3 ][ addr:1006 sz:4 ][ addr:1010 sz:5 ][ addr:1015 sz:85 ]\n",
    "\n",
    "- WorstFit: \n",
    "    - Free List [ Size 6 ]: [ addr:1000 sz:1 ][ addr:1001 sz:2 ][ addr:1003 sz:3 ][ addr:1006 sz:4 ][ addr:1010 sz:5 ][ addr:1015 sz:85 ]\n",
    "\n",
    "- FirstFit\n",
    "    - Free List [ Size 6 ]: [ addr:1000 sz:1 ][ addr:1001 sz:2 ][ addr:1003 sz:3 ][ addr:1006 sz:4 ][ addr:1010 sz:5 ][ addr:1015 sz:85 ]\n",
    "\n",
    "<br>\n",
    "\n",
    "- When Using Coalescing with ADDRSORT this solves the Problem\n",
    "\n"
   ]
  }
 ],
 "metadata": {
  "language_info": {
   "name": "python"
  }
 },
 "nbformat": 4,
 "nbformat_minor": 2
}
